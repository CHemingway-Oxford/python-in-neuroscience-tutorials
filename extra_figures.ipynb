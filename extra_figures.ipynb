{
 "metadata": {
  "name": "",
  "signature": "sha256:1b7baefb86c8b3b619c4b54ccdf9a004cec0d94b36703c2612e0983ebdcafe33"
 },
 "nbformat": 3,
 "nbformat_minor": 0,
 "worksheets": [
  {
   "cells": [
    {
     "cell_type": "code",
     "collapsed": false,
     "input": [
      "from IPython.display import HTML\n",
      "import numpy as np\n",
      "import matplotlib.pyplot as plt\n",
      "%matplotlib inline"
     ],
     "language": "python",
     "metadata": {},
     "outputs": [],
     "prompt_number": 25
    },
    {
     "cell_type": "code",
     "collapsed": false,
     "input": [
      "xx, yy = np.mgrid[0:4, 0:4]"
     ],
     "language": "python",
     "metadata": {},
     "outputs": [],
     "prompt_number": 47
    },
    {
     "cell_type": "code",
     "collapsed": false,
     "input": [
      "def plot_array(labels, **kwargs):\n",
      "    ax = plt.gca()\n",
      "    plt.xlim(0,nx)\n",
      "    plt.ylim(0,ny)\n",
      "    plt.xticks(np.arange(nx+1))\n",
      "    plt.yticks(np.arange(ny+1))\n",
      "    plt.setp(ax.get_xticklabels(), visible=False)\n",
      "    plt.setp(ax.get_yticklabels(), visible=False)\n",
      "\n",
      "    plt.grid(ls='-', lw=1.)\n",
      "\n",
      "    for i in range(nx):\n",
      "        for j in range(ny):\n",
      "            plt.text(i+0.5, ny-j-0.5, labels[i,j], ha='center', va='center', **kwargs)\n",
      "    ax.set_aspect(1/ax.get_data_ratio())\n"
     ],
     "language": "python",
     "metadata": {},
     "outputs": [],
     "prompt_number": 60
    },
    {
     "cell_type": "code",
     "collapsed": false,
     "input": [
      "@np.vectorize\n",
      "def fmt_double(x,y):\n",
      "    return \"({},{})\".format(x ,y)\n",
      "\n",
      "@np.vectorize\n",
      "def fmt_single(x):\n",
      "    return \"{}\".format(x)"
     ],
     "language": "python",
     "metadata": {},
     "outputs": [],
     "prompt_number": 51
    },
    {
     "cell_type": "code",
     "collapsed": false,
     "input": [
      "fmt_single(xx)"
     ],
     "language": "python",
     "metadata": {},
     "outputs": [
      {
       "metadata": {},
       "output_type": "pyout",
       "prompt_number": 52,
       "text": [
        "array([['0', '0', '0', '0'],\n",
        "       ['1', '1', '1', '1'],\n",
        "       ['2', '2', '2', '2'],\n",
        "       ['3', '3', '3', '3']], \n",
        "      dtype='|S1')"
       ]
      }
     ],
     "prompt_number": 52
    },
    {
     "cell_type": "code",
     "collapsed": false,
     "input": [
      "plt.figure(figsize=(9, 3))\n",
      "ax = plt.subplot(131)\n",
      "plot_array(fmt_double(xx, yy))\n",
      "plt.title('coordinates')\n",
      "ax = plt.subplot(132)\n",
      "plot_array(fmt_single(xx), size=14)\n",
      "plt.title('XX')\n",
      "ax = plt.subplot(133)\n",
      "plot_array(fmt_single(yy), size=14)\n",
      "plt.title('YY')\n",
      "plt.savefig('images/meshgrid.png')"
     ],
     "language": "python",
     "metadata": {},
     "outputs": [
      {
       "metadata": {},
       "output_type": "display_data",
       "png": "[encoded data removed]",
       "text": [
        "<matplotlib.figure.Figure at 0x106b76610>"
       ]
      }
     ],
     "prompt_number": 63
    },
    {
     "cell_type": "code",
     "collapsed": false,
     "input": [],
     "language": "python",
     "metadata": {},
     "outputs": []
    }
   ],
   "metadata": {}
  }
 ]
}