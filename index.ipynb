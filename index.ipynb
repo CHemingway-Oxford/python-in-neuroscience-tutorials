{
 "metadata": {
  "name": "",
  "signature": "sha256:74f09971336faae95d9762d0f6a84a687c679935459e806347018c7a5a61d09c"
 },
 "nbformat": 3,
 "nbformat_minor": 0,
 "worksheets": [
  {
   "cells": [
    {
     "cell_type": "markdown",
     "metadata": {},
     "source": [
      "# Python in neuroscience\n",
      "\n",
      "### Table of contents:\n",
      "\n",
      "* [Simulating a conductance-based neuron](simulating_conductance_based_neuron.ipynb)\n",
      "* [Poisson process](poisson_process.ipynb)\n",
      "* [Receptive field models](receptive_fields_models.ipynb)"
     ]
    }
   ],
   "metadata": {}
  }
 ]
}