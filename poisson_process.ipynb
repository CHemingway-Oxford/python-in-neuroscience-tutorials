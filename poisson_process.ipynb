{
 "metadata": {
  "name": "",
  "signature": "sha256:1d312369e1c940c13a3ee7a081badf3a08ac2d26258c430f2db00f08481394f2"
 },
 "nbformat": 3,
 "nbformat_minor": 0,
 "worksheets": [
  {
   "cells": [
    {
     "cell_type": "markdown",
     "metadata": {},
     "source": [
      "# Topics covered\n",
      "\n",
      "**Python**:\n",
      "  * numpy: using random numbers, reshaping arrays, finding indices, diff, cumsum, searchsorted\n",
      "  * matplotlib: histogram, plotting spike trains,\n",
      "  * python: list comprehension, generators,\n",
      "  * scipy: special and stats modules\n",
      "\n",
      "**Neuroscience**:\n",
      "  * different ways of generating of Poisson process,\n",
      "  * simple spike train statistics: firing rate, Fano factor, CV,\n",
      "  * Poisson distribution,\n",
      "  * homogeneous/non-homogeneous Poisson process,"
     ]
    },
    {
     "cell_type": "markdown",
     "metadata": {},
     "source": [
      "# Introduction\n",
      "\n",
      "Neurons communicate (mainly) by action potentials also called spikes. Most information about the perceptions, decisions and actions are encoded into the sequence of spikes occuring at specific times. However, when looking at the statistics of spikes recorded from cortical neurons in vivo, the spike occurances are very irregular. Mathematically, such irregular events are described by the Poisson process and Poisson distribution. Below we will simulate Poisson processes imitating the neuronal spikes and introduce several statistics for describing them."
     ]
    },
    {
     "cell_type": "code",
     "collapsed": false,
     "input": [
      "import numpy as np\n",
      "import matplotlib.pyplot as plt\n",
      "from scipy import special\n",
      "\n",
      "%matplotlib inline"
     ],
     "language": "python",
     "metadata": {},
     "outputs": [],
     "prompt_number": 1
    },
    {
     "cell_type": "code",
     "collapsed": false,
     "input": [
      "from units import *"
     ],
     "language": "python",
     "metadata": {},
     "outputs": [],
     "prompt_number": 2
    },
    {
     "cell_type": "markdown",
     "metadata": {},
     "source": [
      "# Poisson process\n",
      "\n",
      "Imagine that every day on your way to work you count all the red Fiats that you see on the road. We call each such an encounter an event. I think we can safely assume that these events have following properites: \n",
      "\n",
      "* events occur randomly with fixed probability,\n",
      "* events are independent of each other, i.e. the times of the following events do not depend on the time of the previous event.\n",
      "\n",
      "Poisson process is a random sequence of the number of such events occuring in fixed intervals of time (let's say a number of red Fiats you saw each day). In case of neurons Poisson process could describe a number of spikes registered in fixed time intervals (usually called bins). The simplest way to simulate such a process is to use the Bernoulli approximation in which the bin is chosen small enough that at most only a single event can appear within each of them.\n",
      "\n",
      "In the implementation we will use `numpy` random number generator. We first generate a sequence of uniformly distributed random numbers (one number per bin) and compare them against the probability of emitting a spike in one bin. The probability is equal to the spike rate (number of events per second) times the bin size. If the random number is below the probability we store \"1\" to mark an occurrance of a spike. Otherwise, we store 0s. This binary sequence is a binned representation of the train of spikes.\n",
      "\n",
      "First, we define some constants:"
     ]
    },
    {
     "cell_type": "code",
     "collapsed": false,
     "input": [
      "rate = 10 * Hz    # spike rate\n",
      "bin_size = 1 * ms # bin size \n",
      "tmax = 1 * s      # the total lenght of the spike train"
     ],
     "language": "python",
     "metadata": {},
     "outputs": [],
     "prompt_number": 3
    },
    {
     "cell_type": "markdown",
     "metadata": {},
     "source": [
      "Since we are going to reuse it later, we define the spike train generation algorithm in a seperate function:"
     ]
    },
    {
     "cell_type": "code",
     "collapsed": false,
     "input": [
      "def homogeneous_poisson(rate, tmax, bin_size):\n",
      "    nbins = np.floor(tmax/bin_size).astype(int)\n",
      "    prob_of_spike = rate * bin_size\n",
      "    spikes = np.random.rand(nbins) < prob_of_spike\n",
      "    return spikes * 1"
     ],
     "language": "python",
     "metadata": {},
     "outputs": [],
     "prompt_number": 4
    },
    {
     "cell_type": "markdown",
     "metadata": {},
     "source": [
      "**Comments**:\n",
      "\n",
      "* *Line 2*: we convert the length of the spike train in seconds to bins\n",
      "* *L4*: generate  uniformly distributed random numbers and compare them to probability of a spike\n",
      "* *L5*: convert the boolean array to integers and return it"
     ]
    },
    {
     "cell_type": "markdown",
     "metadata": {},
     "source": [
      "We generate a sample spike train and plot it using standard matplotlib plot function:"
     ]
    },
    {
     "cell_type": "code",
     "collapsed": false,
     "input": [
      "spikes_poisson = homogeneous_poisson(rate, tmax, bin_size)\n",
      "time = np.arange(len(spikes_poisson)) * bin_size\n",
      "plt.plot(time, spikes_poisson)\n",
      "plt.xlabel('time (s)')"
     ],
     "language": "python",
     "metadata": {},
     "outputs": [
      {
       "metadata": {},
       "output_type": "pyout",
       "prompt_number": 5,
       "text": [
        "<matplotlib.text.Text at 0x103a25690>"
       ]
      },
      {
       "metadata": {},
       "output_type": "display_data",
       "png": "[encoded data removed]",
       "text": [
        "<matplotlib.figure.Figure at 0x105d24510>"
       ]
      }
     ],
     "prompt_number": 5
    },
    {
     "cell_type": "markdown",
     "metadata": {},
     "source": [
      "The large spikes in the above plot correspond to, well, spikes. Since this is a random process each realisation will be slightly different. We can generate mulitple realisations or trials in a pythonic way using generators. Generator is like a function but instead of returning a single object (number, array, list, etc.) it can return a sequence of such objects &mdash; one per a time. What differentiates a generator from a function is that it uses `yield` statement instead of `return`:"
     ]
    },
    {
     "cell_type": "code",
     "collapsed": false,
     "input": [
      "def poisson_generator(n_trials, rate, tmax, bin_size):\n",
      "    for i in range(n_trials):\n",
      "        yield homogeneous_poisson(rate, tmax, bin_size)"
     ],
     "language": "python",
     "metadata": {},
     "outputs": [],
     "prompt_number": 6
    },
    {
     "cell_type": "markdown",
     "metadata": {},
     "source": [
      "To generate 1000 trials we might simply create the generator and pack its results into a list:"
     ]
    },
    {
     "cell_type": "code",
     "collapsed": false,
     "input": [
      "spike_trains = list(poisson_generator(1000, rate, tmax, bin_size))"
     ],
     "language": "python",
     "metadata": {},
     "outputs": [],
     "prompt_number": 7
    },
    {
     "cell_type": "markdown",
     "metadata": {},
     "source": [
      "However, this would need enough memory to store all (possible long) spike train. The advatange of generators is that they can be evaluated lazily that is only when the value is really needed. For example, to calculate a number of spikes in each train we can simply sum all ones using a list comprehension:\n",
      "\n"
     ]
    },
    {
     "cell_type": "code",
     "collapsed": false,
     "input": [
      "n_spikes = [np.sum(sp) for sp in poisson_generator(1000, rate, tmax, bin_size)] "
     ],
     "language": "python",
     "metadata": {},
     "outputs": [],
     "prompt_number": 8
    },
    {
     "cell_type": "markdown",
     "metadata": {},
     "source": [
      "Note that in this case we do not need to store the spike trains. We simply generate one, calculate the number of spikes, then discard it and generate another train. This can be also done in more functional way using `map` function (which applies the function in its first arguments to all objects returned by the generator):"
     ]
    },
    {
     "cell_type": "code",
     "collapsed": false,
     "input": [
      "n_spikes = list(map(np.sum, poisson_generator(1000, rate, tmax, bin_size)))"
     ],
     "language": "python",
     "metadata": {},
     "outputs": [],
     "prompt_number": 9
    },
    {
     "cell_type": "markdown",
     "metadata": {},
     "source": [
      "The functional and list-comprehension approaches are equivalent in terms of performance (and readability), so please go ahead and choose the one you prefer.\n",
      "\n",
      "Let's look at the distribution of spike counts in the 1000 random realisations of the spike train:"
     ]
    },
    {
     "cell_type": "code",
     "collapsed": false,
     "input": [
      "n_spikes = np.array(n_spikes)\n",
      "bin_edges =  np.arange(n_spikes.max() + 1) - 0.5\n",
      "plt.hist(n_spikes, bin_edges, fc='none');\n",
      "plt.xlabel('spike counts')\n",
      "plt.ylabel('number of realisations')"
     ],
     "language": "python",
     "metadata": {},
     "outputs": [
      {
       "metadata": {},
       "output_type": "pyout",
       "prompt_number": 10,
       "text": [
        "<matplotlib.text.Text at 0x105e34d10>"
       ]
      },
      {
       "metadata": {},
       "output_type": "display_data",
       "png": "[encoded data removed]",
       "text": [
        "<matplotlib.figure.Figure at 0x105de1e10>"
       ]
      }
     ],
     "prompt_number": 10
    },
    {
     "cell_type": "markdown",
     "metadata": {},
     "source": [
      "This way we obtain a distribution of number of events (spikes) in repeated realisations of a Poisson process with the same rate. Note that the mean and variance of this distribution are both equal to the rate times the spike train length:"
     ]
    },
    {
     "cell_type": "code",
     "collapsed": false,
     "input": [
      "print(\"Mean: {:.1f}\".format(n_spikes.mean()))\n",
      "print(\"Variance: {:.1f}\".format(n_spikes.var()))\n",
      "print(\"Rate * train length: {:.1f}\".format(rate * tmax))"
     ],
     "language": "python",
     "metadata": {},
     "outputs": [
      {
       "output_type": "stream",
       "stream": "stdout",
       "text": [
        "Mean: 10.2\n",
        "Variance: 10.2\n",
        "Rate * train length: 10.0\n"
       ]
      }
     ],
     "prompt_number": 11
    },
    {
     "cell_type": "markdown",
     "metadata": {},
     "source": [
      "The ratio of variance to mean is called Fano factor and for Poisson distribution it is equal to 1:"
     ]
    },
    {
     "cell_type": "code",
     "collapsed": false,
     "input": [
      "ff = np.var(n_spikes)/np.mean(n_spikes)\n",
      "print(\"Fano factor: {:.1f}\".format(ff))"
     ],
     "language": "python",
     "metadata": {},
     "outputs": [
      {
       "output_type": "stream",
       "stream": "stdout",
       "text": [
        "Fano factor: 1.0\n"
       ]
      }
     ],
     "prompt_number": 12
    },
    {
     "cell_type": "markdown",
     "metadata": {},
     "source": [
      "#Poisson distribution\n",
      "\n",
      "The Poisson distribution is a probability distribution that describes the number of events occurring at a specific rate in a fixed time interval. We already saw one example of such distribution in the histogram above. This distribution is parameterised by a single parameter $\\lambda$ which is simply the product of rate and the length of the time interval. The probability of having $k$ spikes is then given by:\n",
      "\n",
      "$$P(x=k)=\\frac{\\lambda^k}{k!}e^{-\\lambda}$$\n",
      "\n",
      "Note that Poisson distribution is a discrete probability distriburion, which means that $k$ can have only integer values. Let's define this distribution in a Python function and then plot it:"
     ]
    },
    {
     "cell_type": "code",
     "collapsed": false,
     "input": [
      "def poisson_prob(k, lam):\n",
      "    return lam**k/special.factorial(k)*np.exp(-lam)"
     ],
     "language": "python",
     "metadata": {},
     "outputs": [],
     "prompt_number": 13
    },
    {
     "cell_type": "code",
     "collapsed": false,
     "input": [
      "lam = rate * tmax\n",
      "k = bin_edges + 0.5\n",
      "prob = poisson_prob(k, lam)\n",
      "plt.plot(k, prob, drawstyle='steps-mid');"
     ],
     "language": "python",
     "metadata": {},
     "outputs": [
      {
       "metadata": {},
       "output_type": "display_data",
       "png": "[encoded data removed]",
       "text": [
        "<matplotlib.figure.Figure at 0x105dec390>"
       ]
      }
     ],
     "prompt_number": 14
    },
    {
     "cell_type": "markdown",
     "metadata": {},
     "source": [
      "To emphasise that Poisson distribution is discrete I chose to plot it using steps instead the default straight lines. Now we can superimpose the distribution on the histograms we obtained previously."
     ]
    },
    {
     "cell_type": "code",
     "collapsed": false,
     "input": [
      "plt.hist(n_spikes, bin_edges, fc='none', normed=True)\n",
      "plt.plot(k, prob)\n",
      "plt.xlabel('number of spikes')\n",
      "plt.ylabel('probability')"
     ],
     "language": "python",
     "metadata": {},
     "outputs": [
      {
       "metadata": {},
       "output_type": "pyout",
       "prompt_number": 15,
       "text": [
        "<matplotlib.text.Text at 0x105e93690>"
       ]
      },
      {
       "metadata": {},
       "output_type": "display_data",
       "png": "[encoded data removed]",
       "text": [
        "<matplotlib.figure.Figure at 0x106926790>"
       ]
      }
     ],
     "prompt_number": 15
    },
    {
     "cell_type": "markdown",
     "metadata": {},
     "source": [
      "For reasons of readbility I plotted the distribution in with continous lines instead of steps.\n",
      "\n",
      "For increasing $\\lambda$ the Poisson distribution approaches the Gaussian with mean and variance equal to $\\lambda$. Let us plot the distribution for several values of $\\lambda$:"
     ]
    },
    {
     "cell_type": "code",
     "collapsed": false,
     "input": [
      "x = np.arange(30)\n",
      "for lam in np.linspace(2, 15, 5):\n",
      "    plt.plot(x, poisson_prob(x, lam), label='Poisson $\\lambda$ = %.1f' % lam)\n",
      "def gaussian_pdf(x, mu, sigma_sq):\n",
      "    return 1/(np.sqrt(2*np.pi*sigma_sq))*np.exp(-(x-mu)**2/sigma_sq/2)\n",
      "plt.plot(gaussian_pdf(x, lam, lam), 'k', label=\"Gauss $\\mu = \\sigma^2=%.1f$\" % (lam,), lw=2)\n",
      "plt.legend(frameon=False)\n",
      "plt.xlabel('number of spikes')\n",
      "plt.ylabel('probability');"
     ],
     "language": "python",
     "metadata": {},
     "outputs": [
      {
       "metadata": {},
       "output_type": "display_data",
       "png": "[encoded data removed]",
       "text": [
        "<matplotlib.figure.Figure at 0x105edca50>"
       ]
      }
     ],
     "prompt_number": 16
    },
    {
     "cell_type": "markdown",
     "metadata": {},
     "source": [
      "For comparison I also plotted a Gaussian probability distribution function with variance and mean equal to the largest of $\\lambda$s.  We see that the Poisson distribution with this $\\lambda$ is well approximated by the Gaussian."
     ]
    },
    {
     "cell_type": "markdown",
     "metadata": {},
     "source": [
      "# Sampling from Poisson distribution"
     ]
    },
    {
     "cell_type": "markdown",
     "metadata": {},
     "source": [
      "Bernoulli approximation works only if  we choose a bin size such that the probability of a spike in each bin is close to 0 and most bins will contain at most one spike. When the bin size is large enough some bins could contain two or more spikes, which could not be captured by the binary Bernoulli distribution.  If we are interested just in the spike counts we could avoid this problem by sampling directly from Poisson distribution. `stats` module from `scipy` package implements random number generators for many different distributions. For example to generate samples from Poisson distribution we can use the `poisson.rvs` (`rvs` stands for random variates) function:"
     ]
    },
    {
     "cell_type": "code",
     "collapsed": false,
     "input": [
      "from scipy import stats\n",
      "lam = 5.\n",
      "n_spikes = stats.poisson.rvs(lam, size=1000)"
     ],
     "language": "python",
     "metadata": {},
     "outputs": [],
     "prompt_number": 17
    },
    {
     "cell_type": "markdown",
     "metadata": {},
     "source": [
      "This generates 1000 samples from Poisson distribution with $\\lambda=5$:"
     ]
    },
    {
     "cell_type": "code",
     "collapsed": false,
     "input": [
      "plt.plot(n_spikes);\n",
      "plt.ylabel('spike count')\n",
      "plt.xlabel('samples')"
     ],
     "language": "python",
     "metadata": {},
     "outputs": [
      {
       "metadata": {},
       "output_type": "pyout",
       "prompt_number": 18,
       "text": [
        "<matplotlib.text.Text at 0x1083bcb10>"
       ]
      },
      {
       "metadata": {},
       "output_type": "display_data",
       "png": "[encoded data removed]",
       "text": [
        "<matplotlib.figure.Figure at 0x106ccf7d0>"
       ]
      }
     ],
     "prompt_number": 18
    },
    {
     "cell_type": "code",
     "collapsed": false,
     "input": [
      "plt.hist(n_spikes, bin_edges, fc='none', normed=True);\n",
      "plt.plot(k, poisson_prob(k, lam));\n",
      "plt.xlabel('spike counts')\n",
      "plt.ylabel('probability');"
     ],
     "language": "python",
     "metadata": {},
     "outputs": [
      {
       "metadata": {},
       "output_type": "display_data",
       "png": "[encoded data removed]",
       "text": [
        "<matplotlib.figure.Figure at 0x1083c83d0>"
       ]
      }
     ],
     "prompt_number": 19
    },
    {
     "cell_type": "markdown",
     "metadata": {},
     "source": [
      "# Interspike intervals"
     ]
    },
    {
     "cell_type": "markdown",
     "metadata": {},
     "source": [
      "So far we studied the spike count statistics of the Poisson process. Another way of looking at Poisson process is as a set of time points at which a spike was generated (spike times). We can obtain the spike times from the binned train generated using the Bernoulli approximation by simply finding all 1s in the train. `nonzero` function of `numpy` returns indices of all non-zero elements of the array passed in its argument:"
     ]
    },
    {
     "cell_type": "code",
     "collapsed": false,
     "input": [
      "spt,= np.nonzero(spikes_poisson)\n",
      "print(\"Indices of first 5 spikes:\", spt[:5])"
     ],
     "language": "python",
     "metadata": {},
     "outputs": [
      {
       "output_type": "stream",
       "stream": "stdout",
       "text": [
        "Indices of first 5 spikes: [  8  94 102 166 179]\n"
       ]
      }
     ],
     "prompt_number": 20
    },
    {
     "cell_type": "markdown",
     "metadata": {},
     "source": [
      "To convert the indices into spike times, we just need to multiply them by the bin size. A common way of visualising the spike times is to use **raster plots**.  In a raster plot the time axis is represented in the absisca and each spike is plotted by a single marker, such as a small tick, a point or a star. To generate a raster plot we will use the `vlines` function of matplotlib, which plots vertical lines at the locations specified in its first argument:"
     ]
    },
    {
     "cell_type": "code",
     "collapsed": false,
     "input": [
      "def raster_plot(spt):\n",
      "    plt.figure(figsize=(8,1))\n",
      "    plt.subplot(frameon=False)\n",
      "    plt.vlines(spt, 0, 1)\n",
      "    plt.xlabel('time (s)')\n",
      "    plt.yticks([])\n",
      "    \n",
      "raster_plot(spt)"
     ],
     "language": "python",
     "metadata": {},
     "outputs": [
      {
       "metadata": {},
       "output_type": "display_data",
       "png": "[encoded data removed]",
       "text": [
        "<matplotlib.figure.Figure at 0x1088122d0>"
       ]
      }
     ],
     "prompt_number": 54
    },
    {
     "cell_type": "markdown",
     "metadata": {},
     "source": [
      "Inter-spike intervals can be calculated using the numpy `diff` function, which calculates differences between consecutive values in the array:"
     ]
    },
    {
     "cell_type": "code",
     "collapsed": false,
     "input": [
      "isi = np.diff(spt)\n",
      "plt.plot(isi)\n",
      "plt.ylabel(\"inter-spike interval (s)\")\n",
      "plt.xlabel(\"interval index\")"
     ],
     "language": "python",
     "metadata": {},
     "outputs": [
      {
       "metadata": {},
       "output_type": "pyout",
       "prompt_number": 22,
       "text": [
        "<matplotlib.text.Text at 0x1087fc5d0>"
       ]
      },
      {
       "metadata": {},
       "output_type": "display_data",
       "png": "[encoded data removed]",
       "text": [
        "<matplotlib.figure.Figure at 0x1085b3fd0>"
       ]
      }
     ],
     "prompt_number": 22
    },
    {
     "cell_type": "markdown",
     "metadata": {},
     "source": [
      "We will re-use the code later, so let us define a function which calculates inter-spike intervals from the binned spike train:"
     ]
    },
    {
     "cell_type": "code",
     "collapsed": false,
     "input": [
      "def calc_isi(binary_train, bin_size):\n",
      "    spt,= np.nonzero(spikes_poisson)\n",
      "    spt = spt * bin_size\n",
      "    isi = np.diff(spt)\n",
      "    return isi"
     ],
     "language": "python",
     "metadata": {},
     "outputs": [],
     "prompt_number": 23
    },
    {
     "cell_type": "markdown",
     "metadata": {},
     "source": [
      "Now we can plot the histogram of inter-spike intervals:"
     ]
    },
    {
     "cell_type": "code",
     "collapsed": false,
     "input": [
      "spikes_poisson = homogeneous_poisson(rate, 100 * s, bin_size)\n",
      "isi = calc_isi(spikes_poisson, bin_size)\n",
      "isi_bins = np.linspace(0, isi.max(), 10)\n",
      "plt.hist(isi, isi_bins, fc='none', normed=True)\n",
      "plt.xlabel(\"interspike interval (s)\")\n",
      "plt.ylabel(\"probability density (1/s)\");"
     ],
     "language": "python",
     "metadata": {},
     "outputs": [
      {
       "metadata": {},
       "output_type": "display_data",
       "png": "[encoded data removed]",
       "text": [
        "<matplotlib.figure.Figure at 0x10857c550>"
       ]
      }
     ],
     "prompt_number": 24
    },
    {
     "cell_type": "markdown",
     "metadata": {},
     "source": [
      "The inter-spike intervals of Poisson point process are distributed according to exponential distribution. In contrast to the discrete Poisson distribution the exponential distribution is continous probability distribution whose probability density function (pdf) is given by:\n",
      "\n",
      "$$p(x)=\\lambda\\exp(-\\lambda x)$$\n",
      "\n",
      "where $\\lambda$ parameter is equal to the firing rate.\n",
      "\n",
      "We can plot superpose the theoretical pdf on the histogram to check their similarity:"
     ]
    },
    {
     "cell_type": "code",
     "collapsed": false,
     "input": [
      "plt.hist(isi, isi_bins, fc='none', normed=True);\n",
      "def expn_pdf(x, lam):\n",
      "    return lam*np.exp(-lam*x)\n",
      "plt.plot(isi_bins, expn_pdf(isi_bins, rate))\n",
      "plt.xlabel(\"interspike interval (s)\")\n",
      "plt.ylabel(\"probability density (1/s)\");"
     ],
     "language": "python",
     "metadata": {},
     "outputs": [
      {
       "metadata": {},
       "output_type": "display_data",
       "png": "[encoded data removed]",
       "text": [
        "<matplotlib.figure.Figure at 0x105f6ab90>"
       ]
      }
     ],
     "prompt_number": 25
    },
    {
     "cell_type": "markdown",
     "metadata": {},
     "source": [
      "The standard deviation and mean of inter-spike intervals of Poisson distribution are equal. Therefore, the ratio between the standard deviation and mean, called coefficient of variation (CV) is equal to 1. In practice, CV is often used to characterise the \"randomness\" of a spike train:"
     ]
    },
    {
     "cell_type": "code",
     "collapsed": false,
     "input": [
      "cv = np.std(isi)/np.mean(isi) # coefficient of variation\n",
      "print(\"Coefficient of variation:\", cv)"
     ],
     "language": "python",
     "metadata": {},
     "outputs": [
      {
       "output_type": "stream",
       "stream": "stdout",
       "text": [
        "Coefficient of variation: 1.00944046527\n"
       ]
      }
     ],
     "prompt_number": 26
    },
    {
     "cell_type": "markdown",
     "metadata": {},
     "source": [
      "We can use the fact that we know the distribution of the inter-spike intervals to generate Poisson spike times. First, we draw random inter-spike intervals from the exponential distribution. To this end, we will use `expon.rvs` function from the `scipy.stats` module:"
     ]
    },
    {
     "cell_type": "code",
     "collapsed": false,
     "input": [
      "def generate_isi(rate, n_spikes):\n",
      "    isi = stats.expon.rvs(scale=1./rate, size=n_spikes)\n",
      "    return isi\n",
      "\n",
      "n_spikes = 1000\n",
      "isi = generate_isi(rate, n_spikes)"
     ],
     "language": "python",
     "metadata": {},
     "outputs": [],
     "prompt_number": 147
    },
    {
     "cell_type": "markdown",
     "metadata": {},
     "source": [
      "Now we just need to sum inter-spike intervals to obtain the spike times. To calculate the cumulative sum of the intervals we can use the `cumsum` function of `numpy`. We test the accuracy of the generated spike train by estimating the spike rate and comparing it against the target rate:"
     ]
    },
    {
     "cell_type": "code",
     "collapsed": false,
     "input": [
      "# generation of poisson spikes by means of ISI\n",
      "spike_train = np.cumsum(isi)\n",
      "print(\"Rate: %.1f Hz\" % (len(spike_train)/spike_train.max(), ))\n",
      "print(\"Target rate: %.1f Hz\" % (rate, ))"
     ],
     "language": "python",
     "metadata": {},
     "outputs": [
      {
       "output_type": "stream",
       "stream": "stdout",
       "text": [
        "Rate: 56.1 Hz\n",
        "Target rate: 55.8 Hz\n"
       ]
      }
     ],
     "prompt_number": 37
    },
    {
     "cell_type": "markdown",
     "metadata": {},
     "source": [
      "With this method we obtain directly the spike times, which we can visualize using the raster plot as before:"
     ]
    },
    {
     "cell_type": "code",
     "collapsed": false,
     "input": [
      "raster_plot(spike_train[:60])"
     ],
     "language": "python",
     "metadata": {},
     "outputs": [
      {
       "metadata": {},
       "output_type": "display_data",
       "png": "[encoded data removed]",
       "text": [
        "<matplotlib.figure.Figure at 0x106913fd0>"
       ]
      }
     ],
     "prompt_number": 55
    },
    {
     "cell_type": "markdown",
     "metadata": {},
     "source": [
      "# Refractory period"
     ]
    },
    {
     "cell_type": "markdown",
     "metadata": {},
     "source": [
      "Poisson process is not realistic representation of the spiking statistics in the brain. One biologically implausible property is that the intervals between spikes can be arbitrary short (see the the distribution of the inter-spike intervals above). Real neurons after generating a spike remain unresponsive for some time, called refractory period, during which the ion channels and membrane potential recover to their resting state. We can emulate the refractory period in the Poisson process by removing the intervals shorter than this period.\n",
      "\n",
      "First, we generate inter-spike intervals from exponential distribution:"
     ]
    },
    {
     "cell_type": "code",
     "collapsed": false,
     "input": [
      "rate = 100 * Hz\n",
      "isi = generate_isi(rate, 5000)"
     ],
     "language": "python",
     "metadata": {},
     "outputs": [],
     "prompt_number": 152
    },
    {
     "cell_type": "markdown",
     "metadata": {},
     "source": [
      "Next, we set the length of refractory period. To remove the inter-spike intervals shorter than the period, we can use a feature of `numpy` arrays called **boolean indexing**. Boolean indexing uses a boolean array (a mask) of the same length as the indexed array to specify the elements to return &mdash; only elements at the position of True values are returned. The mask can be obtained, for example, by element-wise comparison applied to an array."
     ]
    },
    {
     "cell_type": "code",
     "collapsed": false,
     "input": [
      "refractory_period = 8 * ms\n",
      "isi_ref = isi[isi > refractory_period]\n",
      "\n",
      "def estimate_rate_from_isi(isi):\n",
      "    return len(isi)/np.sum(isi)\n",
      "\n",
      "print(\"Refractory period:\", refractory_period / ms, 'ms')\n",
      "print(\"Minimum inter-spike interval:\")\n",
      "print(\" - Poisson process: {:.1f} ms\".format(isi.min()))\n",
      "print(\" - Poisson with ref. period: {:.1f} ms\".format(isi_ref.min() / ms))\n",
      "print('Firing rate:')\n",
      "print(\" - Poisson process: {:.1f} Hz\".format(estimate_rate_from_isi(isi)))\n",
      "print(\" - Poisson with ref. period: {:.1f} Hz\".format(estimate_rate_from_isi(isi_ref)))"
     ],
     "language": "python",
     "metadata": {},
     "outputs": [
      {
       "output_type": "stream",
       "stream": "stdout",
       "text": [
        "Refractory period: 8.0 ms\n",
        "Minimum inter-spike interval:\n",
        " - Poisson process: 0.0 ms\n",
        " - Poisson with ref. period: 8.0 ms\n",
        "Firing rate:\n",
        " - Poisson process: 100.6 Hz\n",
        " - Poisson with ref. period: 55.7 Hz\n"
       ]
      }
     ],
     "prompt_number": 153
    },
    {
     "cell_type": "markdown",
     "metadata": {},
     "source": [
      "Note that removing of the inter-spike interval also decreases the obtained firing rate. The new firing rate can be calculated from the equation:\n",
      "\n",
      "$$\\nu_\\mathrm{ref}=\\left(\\lambda^{-1}+\\tau_{\\mathrm{ref}}\\right)^{-1}$$\n",
      "\n",
      "To compensate for the decrease, we need to increase the $\\lambda$ parameter of the exponential distribution. If we solve the above equation for $\\lambda$ we obtain:\n",
      "\n",
      "$$\\lambda=\\left(\\nu_\\mathrm{ref}^{-1}-\\tau_{\\mathrm{ref}}\\right)^{-1}$$\n",
      "\n",
      "We now implement this correction in a function generating inter-spike intervals with refractory period:"
     ]
    },
    {
     "cell_type": "code",
     "collapsed": false,
     "input": [
      "def generate_isi_refractory(rate, tau_ref, n_spikes):\n",
      "    lam = 1/(1/rate-tau_ref)\n",
      "    isi = stats.expon.rvs(scale=1./lam, size=n_spikes)\n",
      "    isi = isi[isi > tau_ref]\n",
      "    return isi"
     ],
     "language": "python",
     "metadata": {},
     "outputs": [],
     "prompt_number": 154
    },
    {
     "cell_type": "markdown",
     "metadata": {},
     "source": [
      "We can check whether we the expected firing rate and inter-spike intervals:"
     ]
    },
    {
     "cell_type": "code",
     "collapsed": false,
     "input": [
      "isi_ref = generate_isi_refractory(rate, refractory_period, 1000)\n",
      "print(\"Minimum inter-spike interval: {:.1f} ms\".format(isi_ref.min() / ms))\n",
      "print('Firing rate: {:.1f} Hz'.format(estimate_rate_from_isi(isi_ref)))"
     ],
     "language": "python",
     "metadata": {},
     "outputs": [
      {
       "output_type": "stream",
       "stream": "stdout",
       "text": [
        "Minimum inter-spike interval: 8.1 ms\n",
        "Firing rate: 105.2 Hz\n"
       ]
      }
     ],
     "prompt_number": 155
    },
    {
     "cell_type": "code",
     "collapsed": false,
     "input": [
      "#introducing refractory period\n",
      "count_interval = 1 * s\n",
      "\n",
      "def count_spikes(spike_train, bin_size):\n",
      "    bins = np.arange(0, spike_train[-1], bin_size)\n",
      "    cumulated_counts = np.searchsorted(spike_train, bins)\n",
      "    counts = np.diff(cumulated_counts)\n",
      "    return counts\n",
      "\n",
      "\n",
      "count_interval = 50 * ms\n",
      "isi_ref = isi[isi > refractory_period]\n",
      "spike_train_ref = np.cumsum(isi_ref)\n",
      "\n",
      "# calculate the rate\n",
      "rate = len(spike_train_ref) / spike_train_ref[-1]\n",
      "# generate poisson train with the same rate\n",
      "isi = generate_isi(rate, 5000)\n",
      "spike_train = np.cumsum(isi)\n",
      "\n",
      "counts = count_spikes(spike_train, count_interval)\n",
      "counts_ref = count_spikes(spike_train_ref, count_interval)\n",
      "\n",
      "\n",
      "plt.hist(counts, hist_bins, fc='r', ec='none', normed=True, label='no refractorines')\n",
      "plt.hist(counts_ref, hist_bins, fc='blue', ec='none', normed=True, alpha=0.6, label='with refractoriness')\n",
      "rate = len(spike_train_ref) / spike_train_ref[-1]\n",
      "plt.plot(hist_bins, poisson_pdf(rate * count_interval, hist_bins), 'k', lw=2, label='Poisson distribution')\n",
      "plt.xlim(0, 15)\n",
      "plt.xlabel('spike counts')\n",
      "plt.ylabel('probability')"
     ],
     "language": "python",
     "metadata": {},
     "outputs": [
      {
       "ename": "NameError",
       "evalue": "name 'hist_bins' is not defined",
       "output_type": "pyerr",
       "traceback": [
        "\u001b[0;31m---------------------------------------------------------------------------\u001b[0m\n\u001b[0;31mNameError\u001b[0m                                 Traceback (most recent call last)",
        "\u001b[0;32m<ipython-input-119-92220df76978>\u001b[0m in \u001b[0;36m<module>\u001b[0;34m()\u001b[0m\n\u001b[1;32m     23\u001b[0m \u001b[0;34m\u001b[0m\u001b[0m\n\u001b[1;32m     24\u001b[0m \u001b[0;34m\u001b[0m\u001b[0m\n\u001b[0;32m---> 25\u001b[0;31m \u001b[0mplt\u001b[0m\u001b[0;34m.\u001b[0m\u001b[0mhist\u001b[0m\u001b[0;34m(\u001b[0m\u001b[0mcounts\u001b[0m\u001b[0;34m,\u001b[0m \u001b[0mhist_bins\u001b[0m\u001b[0;34m,\u001b[0m \u001b[0mfc\u001b[0m\u001b[0;34m=\u001b[0m\u001b[0;34m'r'\u001b[0m\u001b[0;34m,\u001b[0m \u001b[0mec\u001b[0m\u001b[0;34m=\u001b[0m\u001b[0;34m'none'\u001b[0m\u001b[0;34m,\u001b[0m \u001b[0mnormed\u001b[0m\u001b[0;34m=\u001b[0m\u001b[0;32mTrue\u001b[0m\u001b[0;34m,\u001b[0m \u001b[0mlabel\u001b[0m\u001b[0;34m=\u001b[0m\u001b[0;34m'no refractorines'\u001b[0m\u001b[0;34m)\u001b[0m\u001b[0;34m\u001b[0m\u001b[0m\n\u001b[0m\u001b[1;32m     26\u001b[0m \u001b[0mplt\u001b[0m\u001b[0;34m.\u001b[0m\u001b[0mhist\u001b[0m\u001b[0;34m(\u001b[0m\u001b[0mcounts_ref\u001b[0m\u001b[0;34m,\u001b[0m \u001b[0mhist_bins\u001b[0m\u001b[0;34m,\u001b[0m \u001b[0mfc\u001b[0m\u001b[0;34m=\u001b[0m\u001b[0;34m'blue'\u001b[0m\u001b[0;34m,\u001b[0m \u001b[0mec\u001b[0m\u001b[0;34m=\u001b[0m\u001b[0;34m'none'\u001b[0m\u001b[0;34m,\u001b[0m \u001b[0mnormed\u001b[0m\u001b[0;34m=\u001b[0m\u001b[0;32mTrue\u001b[0m\u001b[0;34m,\u001b[0m \u001b[0malpha\u001b[0m\u001b[0;34m=\u001b[0m\u001b[0;36m0.6\u001b[0m\u001b[0;34m,\u001b[0m \u001b[0mlabel\u001b[0m\u001b[0;34m=\u001b[0m\u001b[0;34m'with refractoriness'\u001b[0m\u001b[0;34m)\u001b[0m\u001b[0;34m\u001b[0m\u001b[0m\n\u001b[1;32m     27\u001b[0m \u001b[0mrate\u001b[0m \u001b[0;34m=\u001b[0m \u001b[0mlen\u001b[0m\u001b[0;34m(\u001b[0m\u001b[0mspike_train_ref\u001b[0m\u001b[0;34m)\u001b[0m \u001b[0;34m/\u001b[0m \u001b[0mspike_train_ref\u001b[0m\u001b[0;34m[\u001b[0m\u001b[0;34m-\u001b[0m\u001b[0;36m1\u001b[0m\u001b[0;34m]\u001b[0m\u001b[0;34m\u001b[0m\u001b[0m\n",
        "\u001b[0;31mNameError\u001b[0m: name 'hist_bins' is not defined"
       ]
      }
     ],
     "prompt_number": 119
    },
    {
     "cell_type": "code",
     "collapsed": false,
     "input": [
      "def calc_cv(isi):\n",
      "    return np.std(isi)/np.mean(isi)\n",
      "print \"CV:\\n - no refractoriness: %.1f\" % (calc_cv(isi),)\n",
      "print \" - with refractoriness: %.1f\" % (calc_cv(isi_ref),)"
     ],
     "language": "python",
     "metadata": {},
     "outputs": [
      {
       "output_type": "stream",
       "stream": "stdout",
       "text": [
        "CV:\n",
        " - no refractoriness: 1.0\n",
        " - with refractoriness: 0.6\n"
       ]
      }
     ],
     "prompt_number": 28
    },
    {
     "cell_type": "markdown",
     "metadata": {},
     "source": [
      "# Inhomogeneous Poisson process"
     ]
    },
    {
     "cell_type": "code",
     "collapsed": false,
     "input": [
      "def inhomogeneous_poisson(rate, bin_size):\n",
      "    spikes = np.random.rand(len(rate)) < rate * bin_size\n",
      "    spike_times = np.nonzero(spikes)[0] * bin_size\n",
      "    return spike_times"
     ],
     "language": "python",
     "metadata": {},
     "outputs": [],
     "prompt_number": 29
    },
    {
     "cell_type": "code",
     "collapsed": false,
     "input": [
      "tmax=5*s\n",
      "max_rate = 40 * Hz\n",
      "f_osc = 1 * Hz\n",
      "bin_size = 2 * ms\n",
      "time = np.arange(0, tmax, bin_size)\n",
      "rate = max_rate * (np.sin(2*np.pi*f_osc*time)+1)/2\n",
      "plt.subplot(211)\n",
      "plt.plot(time, rate)\n",
      "plt.ylabel('rate (Hz)')\n",
      "spike_times = inhomogeneous_poisson(rate, bin_size)\n",
      "plt.subplot(212)\n",
      "plt.vlines(spike_times, 0,1)\n",
      "plt.yticks([])\n",
      "plt.xlabel('time (s)')"
     ],
     "language": "python",
     "metadata": {},
     "outputs": [
      {
       "metadata": {},
       "output_type": "pyout",
       "prompt_number": 30,
       "text": [
        "<matplotlib.text.Text at 0x1089ac510>"
       ]
      },
      {
       "metadata": {},
       "output_type": "display_data",
       "png": "[encoded data removed]",
       "text": [
        "<matplotlib.figure.Figure at 0x1086c1a10>"
       ]
      }
     ],
     "prompt_number": 30
    },
    {
     "cell_type": "code",
     "collapsed": false,
     "input": [
      "isi = np.diff(spike_times)\n",
      "print \"CV: %.1f\" % calc_cv(isi)"
     ],
     "language": "python",
     "metadata": {},
     "outputs": [
      {
       "output_type": "stream",
       "stream": "stdout",
       "text": [
        "CV: 1.7\n"
       ]
      }
     ],
     "prompt_number": 31
    },
    {
     "cell_type": "code",
     "collapsed": false,
     "input": [
      "#renewal process\n",
      "# time wrapping\n",
      "#psths\n",
      "#raster plots"
     ],
     "language": "python",
     "metadata": {},
     "outputs": [],
     "prompt_number": 32
    },
    {
     "cell_type": "code",
     "collapsed": false,
     "input": [],
     "language": "python",
     "metadata": {},
     "outputs": [],
     "prompt_number": 32
    },
    {
     "cell_type": "code",
     "collapsed": false,
     "input": [],
     "language": "python",
     "metadata": {},
     "outputs": [],
     "prompt_number": 32
    }
   ],
   "metadata": {}
  }
 ]
}